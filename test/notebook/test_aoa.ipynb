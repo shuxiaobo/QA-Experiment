{
 "cells": [
  {
   "cell_type": "markdown",
   "metadata": {
    "collapsed": true
   },
   "source": [
    "### 1.test M_mask calculation"
   ]
  },
  {
   "cell_type": "code",
   "execution_count": 1,
   "metadata": {},
   "outputs": [],
   "source": [
    "import tensorflow as tf"
   ]
  },
  {
   "cell_type": "code",
   "execution_count": 25,
   "metadata": {},
   "outputs": [
    {
     "name": "stdout",
     "output_type": "stream",
     "text": [
      "q_mask shape:(5, 5)\nd_mask shape:(5, 10)\n"
     ]
    },
    {
     "data": {
      "text/plain": [
       "TensorShape([Dimension(5), Dimension(10), Dimension(5)])"
      ]
     },
     "execution_count": 25,
     "metadata": {},
     "output_type": "execute_result"
    }
   ],
   "source": [
    "q_len, d_len = 5, 10\n",
    "q_lens = tf.constant([3, 2, 1, 3, 4], dtype=tf.int32)\n",
    "d_lens = tf.constant([7, 8, 9, 6, 6], dtype=tf.int32)\n",
    "q_mask = tf.sequence_mask(q_lens, q_len, dtype=tf.float32)\n",
    "d_mask = tf.sequence_mask(d_lens, d_len, dtype=tf.float32)\n",
    "\n",
    "print(\"q_mask shape:{}\".format(q_mask.get_shape()))\n",
    "print(\"d_mask shape:{}\".format(d_mask.get_shape()))\n",
    "M_mask = tf.einsum(\"bi,bj->bij\", d_mask, q_mask)\n",
    "M_mask.get_shape()"
   ]
  },
  {
   "cell_type": "code",
   "execution_count": 26,
   "metadata": {},
   "outputs": [
    {
     "name": "stdout",
     "output_type": "stream",
     "text": [
      "[[ 1.  1.  1.  0.  0.]\n [ 1.  1.  0.  0.  0.]\n [ 1.  0.  0.  0.  0.]\n [ 1.  1.  1.  0.  0.]\n [ 1.  1.  1.  1.  0.]]\n--------------------------------------------------\n[[ 1.  1.  1.  1.  1.  1.  1.  0.  0.  0.]\n [ 1.  1.  1.  1.  1.  1.  1.  1.  0.  0.]\n [ 1.  1.  1.  1.  1.  1.  1.  1.  1.  0.]\n [ 1.  1.  1.  1.  1.  1.  0.  0.  0.  0.]\n [ 1.  1.  1.  1.  1.  1.  0.  0.  0.  0.]]\n--------------------------------------------------\n[[[ 1.  1.  1.  0.  0.]\n  [ 1.  1.  1.  0.  0.]\n  [ 1.  1.  1.  0.  0.]\n  [ 1.  1.  1.  0.  0.]\n  [ 1.  1.  1.  0.  0.]\n  [ 1.  1.  1.  0.  0.]\n  [ 1.  1.  1.  0.  0.]\n  [ 0.  0.  0.  0.  0.]\n  [ 0.  0.  0.  0.  0.]\n  [ 0.  0.  0.  0.  0.]]\n\n [[ 1.  1.  0.  0.  0.]\n  [ 1.  1.  0.  0.  0.]\n  [ 1.  1.  0.  0.  0.]\n  [ 1.  1.  0.  0.  0.]\n  [ 1.  1.  0.  0.  0.]\n  [ 1.  1.  0.  0.  0.]\n  [ 1.  1.  0.  0.  0.]\n  [ 1.  1.  0.  0.  0.]\n  [ 0.  0.  0.  0.  0.]\n  [ 0.  0.  0.  0.  0.]]\n\n [[ 1.  0.  0.  0.  0.]\n  [ 1.  0.  0.  0.  0.]\n  [ 1.  0.  0.  0.  0.]\n  [ 1.  0.  0.  0.  0.]\n  [ 1.  0.  0.  0.  0.]\n  [ 1.  0.  0.  0.  0.]\n  [ 1.  0.  0.  0.  0.]\n  [ 1.  0.  0.  0.  0.]\n  [ 1.  0.  0.  0.  0.]\n  [ 0.  0.  0.  0.  0.]]\n\n [[ 1.  1.  1.  0.  0.]\n  [ 1.  1.  1.  0.  0.]\n  [ 1.  1.  1.  0.  0.]\n  [ 1.  1.  1.  0.  0.]\n  [ 1.  1.  1.  0.  0.]\n  [ 1.  1.  1.  0.  0.]\n  [ 0.  0.  0.  0.  0.]\n  [ 0.  0.  0.  0.  0.]\n  [ 0.  0.  0.  0.  0.]\n  [ 0.  0.  0.  0.  0.]]\n\n [[ 1.  1.  1.  1.  0.]\n  [ 1.  1.  1.  1.  0.]\n  [ 1.  1.  1.  1.  0.]\n  [ 1.  1.  1.  1.  0.]\n  [ 1.  1.  1.  1.  0.]\n  [ 1.  1.  1.  1.  0.]\n  [ 0.  0.  0.  0.  0.]\n  [ 0.  0.  0.  0.  0.]\n  [ 0.  0.  0.  0.  0.]\n  [ 0.  0.  0.  0.  0.]]]\n"
     ]
    }
   ],
   "source": [
    "with tf.Session() as sess:\n",
    "    sess.run(tf.global_variables_initializer())\n",
    "    print(sess.run(q_mask))\n",
    "    print(\"-\" * 50)\n",
    "    print(sess.run(d_mask))\n",
    "    print(\"-\" * 50)\n",
    "    print(sess.run(M_mask))"
   ]
  },
  {
   "cell_type": "markdown",
   "metadata": {},
   "source": [
    "### 2.test attention sum"
   ]
  },
  {
   "cell_type": "code",
   "execution_count": 1,
   "metadata": {},
   "outputs": [],
   "source": [
    "import tensorflow as tf\n",
    "import numpy as np"
   ]
  },
  {
   "cell_type": "code",
   "execution_count": 7,
   "metadata": {},
   "outputs": [
    {
     "name": "stdout",
     "output_type": "stream",
     "text": [
      "[[ 0.1  0.1  0.1  0.1  0.1  0.1  0.1  0.1  0.1  0.1]\n [ 0.1  0.1  0.1  0.1  0.1  0.1  0.1  0.1  0.1  0.1]\n [ 0.1  0.1  0.1  0.1  0.1  0.1  0.1  0.1  0.1  0.1]]\n(3, 10)\n--------------------------------------------------\n[[ 4  3 18 19  7  9 13  1 10 11]\n [ 5 16 11  6  4  0 16  1 11  8]\n [ 3  5  2 12  2  8 14  1 15 11]]\n(3, 10)\n--------------------------------------------------\n[[ 3 11 19 11]\n [ 9  1 14 11]\n [13 10 10 13]]\n(3, 4)\n"
     ]
    }
   ],
   "source": [
    "batch_size = 3\n",
    "d_len = 10\n",
    "vocab_size = 20\n",
    "A_len = 4\n",
    "true_s_bd = np.array([0.1]*d_len*batch_size).reshape(batch_size,d_len)\n",
    "true_documents_bt = np.random.randint(0,vocab_size,size=(batch_size,d_len))\n",
    "true_candidates_bi = np.random.randint(0,vocab_size,size=(batch_size,A_len))\n",
    "\n",
    "print(true_s_bd)\n",
    "print(true_s_bd.shape)\n",
    "print(\"-\"*50)\n",
    "print(true_documents_bt)\n",
    "print(true_documents_bt.shape)\n",
    "print(\"-\"*50)\n",
    "print(true_candidates_bi)\n",
    "print(true_candidates_bi.shape)"
   ]
  },
  {
   "cell_type": "code",
   "execution_count": 8,
   "metadata": {
    "collapsed": false
   },
   "outputs": [
    {
     "name": "stdout",
     "output_type": "stream",
     "text": [
      "[[ 0.1  0.1  0.1  0.1]\n [ 0.   0.1  0.   0.2]\n [ 0.   0.   0.   0. ]]\n"
     ]
    }
   ],
   "source": [
    "s_bd = tf.placeholder(dtype=tf.float32, shape=(None, d_len), name=\"s_bd\")\n",
    "documents_bt = tf.placeholder(dtype=tf.int32, shape=(None, d_len), name=\"documents_bt\")\n",
    "candidates_bi = tf.placeholder(dtype=tf.int32, shape=(None, A_len), name=\"candidates_bi\")\n",
    "y_hat_bi = tf.scan(fn=lambda prev, cur:\n",
    "tf.gather(tf.unsorted_segment_sum(cur[0], cur[1], vocab_size), cur[2]),\n",
    "                   elems=[s_bd, documents_bt, candidates_bi],\n",
    "                   initializer=tf.Variable([0.] * A_len,dtype=tf.float32))\n",
    "with tf.Session() as sess:\n",
    "    sess.run(tf.global_variables_initializer())\n",
    "    data = {\n",
    "        s_bd:true_s_bd,\n",
    "        documents_bt:true_documents_bt,\n",
    "        candidates_bi:true_candidates_bi\n",
    "    }\n",
    "    print(sess.run(y_hat_bi,feed_dict=data))"
   ]
  },
  {
   "cell_type": "code",
   "execution_count": null,
   "metadata": {},
   "outputs": [],
   "source": [
    ""
   ]
  }
 ],
 "metadata": {
  "kernelspec": {
   "display_name": "Python 2",
   "language": "python",
   "name": "python2"
  },
  "language_info": {
   "codemirror_mode": {
    "name": "ipython",
    "version": 2
   },
   "file_extension": ".py",
   "mimetype": "text/x-python",
   "name": "python",
   "nbconvert_exporter": "python",
   "pygments_lexer": "ipython2",
   "version": "2.7.6"
  }
 },
 "nbformat": 4,
 "nbformat_minor": 0
}
